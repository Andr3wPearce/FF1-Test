{
 "cells": [
  {
   "cell_type": "code",
   "execution_count": 1,
   "id": "e641bf61",
   "metadata": {},
   "outputs": [],
   "source": [
    "import fastf1 as ff1\n",
    "import fastf1.plotting as ff1plot\n",
    "import pandas as pd\n",
    "import numpy as np\n",
    "import matplotlib.pyplot as plt"
   ]
  },
  {
   "cell_type": "markdown",
   "id": "7c74d8ac",
   "metadata": {},
   "source": [
    "We create a cache so that our program will load faster in the future(thanks ff1!)"
   ]
  },
  {
   "cell_type": "code",
   "execution_count": 2,
   "id": "0ef66836",
   "metadata": {
    "scrolled": true
   },
   "outputs": [],
   "source": [
    "ff1.Cache.enable_cache(\"cache/\")"
   ]
  },
  {
   "cell_type": "markdown",
   "id": "94939f27",
   "metadata": {},
   "source": [
    "Now we get all races from the 2021 season so far, and store them in a array called \"races\""
   ]
  },
  {
   "cell_type": "code",
   "execution_count": 3,
   "id": "af8e330b",
   "metadata": {},
   "outputs": [],
   "source": [
    "races = []"
   ]
  },
  {
   "cell_type": "markdown",
   "id": "6b4d91b7",
   "metadata": {},
   "source": [
    "Now we collect all the ones out so far, so races 1-17. We also load lap times if not already cached, as this will help us later."
   ]
  },
  {
   "cell_type": "code",
   "execution_count": 4,
   "id": "d119c252",
   "metadata": {
    "scrolled": true
   },
   "outputs": [
    {
     "name": "stderr",
     "output_type": "stream",
     "text": [
      "core           INFO \tLoading laps for Bahrain Grand Prix - Race [v2.1.8]\n",
      "api            INFO \tUsing cached data for timing_data\n",
      "api            INFO \tUsing cached data for timing_app_data\n",
      "core           INFO \tProcessing timing data...\n",
      "api            INFO \tUsing cached data for session_status_data\n",
      "utils          INFO \tNote: NumExpr detected 16 cores but \"NUMEXPR_MAX_THREADS\" not set, so enforcing safe limit of 8.\n",
      "utils          INFO \tNumExpr defaulting to 8 threads.\n",
      "api            INFO \tUsing cached data for track_status_data\n",
      "api            INFO \tUsing cached data for weather_data\n",
      "core           INFO \tLoaded data for 20 drivers: ['33', '44', '77', '16', '10', '3', '4', '55', '14', '18', '11', '99', '22', '7', '63', '31', '6', '47', '', '5']\n",
      "core           INFO \tLoading laps for Emilia Romagna Grand Prix - Race [v2.1.8]\n",
      "api            INFO \tUsing cached data for timing_data\n",
      "api            INFO \tUsing cached data for timing_app_data\n",
      "core           INFO \tProcessing timing data...\n",
      "api            INFO \tUsing cached data for session_status_data\n",
      "api            INFO \tUsing cached data for track_status_data\n",
      "api            INFO \tUsing cached data for weather_data\n",
      "core           INFO \tLoaded data for 20 drivers: ['44', '11', '33', '16', '10', '3', '4', '77', '31', '18', '55', '63', '5', '', '14', '7', '99', '47', '9', '22']\n",
      "core           INFO \tLoading laps for Portuguese Grand Prix - Race [v2.1.8]\n",
      "api            INFO \tUsing cached data for timing_data\n",
      "api            INFO \tUsing cached data for timing_app_data\n",
      "core           INFO \tProcessing timing data...\n",
      "api            INFO \tUsing cached data for session_status_data\n",
      "api            INFO \tUsing cached data for track_status_data\n",
      "api            INFO \tUsing cached data for weather_data\n",
      "core           INFO \tLoaded data for 20 drivers: ['77', '44', '33', '11', '55', '31', '4', '16', '10', '5', '63', '99', '14', '22', '7', '3', '18', '6', '47', '9']\n",
      "core           INFO \tLoading laps for Spanish Grand Prix - Race [v2.1.8]\n",
      "api            INFO \tUsing cached data for timing_data\n",
      "api            INFO \tUsing cached data for timing_app_data\n",
      "core           INFO \tProcessing timing data...\n",
      "api            INFO \tUsing cached data for session_status_data\n",
      "api            INFO \tUsing cached data for track_status_data\n",
      "api            INFO \tUsing cached data for weather_data\n",
      "core           INFO \tLoaded data for 20 drivers: ['44', '33', '77', '16', '31', '55', '3', '11', '4', '14', '18', '10', '5', '99', '63', '22', '7', '47', '6', '9']\n",
      "core           INFO \tLoading laps for Monaco Grand Prix - Race [v2.1.8]\n",
      "api            INFO \tUsing cached data for timing_data\n",
      "api            INFO \tUsing cached data for timing_app_data\n",
      "core           INFO \tProcessing timing data...\n",
      "api            INFO \tUsing cached data for session_status_data\n",
      "api            INFO \tUsing cached data for track_status_data\n",
      "api            INFO \tUsing cached data for weather_data\n",
      "core           INFO \tLoaded data for 20 drivers: ['', '33', '77', '55', '4', '10', '44', '5', '11', '99', '31', '3', '18', '7', '63', '22', '14', '6', '9', '47']\n",
      "core           INFO \tLoading laps for Azerbaijan Grand Prix - Race [v2.1.8]\n",
      "api            INFO \tUsing cached data for timing_data\n",
      "api            INFO \tUsing cached data for timing_app_data\n",
      "core           INFO \tProcessing timing data...\n",
      "api            INFO \tUsing cached data for session_status_data\n",
      "api            INFO \tUsing cached data for track_status_data\n",
      "api            INFO \tUsing cached data for weather_data\n",
      "core           INFO \tLoaded data for 20 drivers: ['16', '44', '33', '10', '55', '11', '22', '14', '4', '77', '5', '31', '3', '7', '63', '6', '47', '9', '18', '99']\n",
      "core           INFO \tLoading laps for French Grand Prix - Race [v2.1.8]\n",
      "api            INFO \tUsing cached data for timing_data\n",
      "api            INFO \tUsing cached data for timing_app_data\n",
      "core           INFO \tProcessing timing data...\n",
      "api            INFO \tUsing cached data for session_status_data\n",
      "api            INFO \tUsing cached data for track_status_data\n",
      "api            INFO \tUsing cached data for weather_data\n",
      "core           INFO \tLoaded data for 20 drivers: ['33', '44', '77', '11', '55', '10', '16', '4', '14', '3', '31', '5', '99', '63', '47', '6', '7', '9', '18', '22']\n",
      "core           INFO \tLoading laps for Styrian Grand Prix - Race [v2.1.8]\n",
      "api            INFO \tUsing cached data for timing_data\n",
      "api            INFO \tUsing cached data for timing_app_data\n",
      "core           INFO \tProcessing timing data...\n",
      "api            INFO \tUsing cached data for session_status_data\n",
      "api            INFO \tUsing cached data for track_status_data\n",
      "core        WARNING \tDriver 18: Lap timing integrity check failed for 1 lap(s)\n",
      "api            INFO \tUsing cached data for weather_data\n",
      "core           INFO \tLoaded data for 20 drivers: ['33', '44', '4', '11', '77', '10', '16', '14', '18', '63', '22', '55', '3', '5', '99', '6', '31', '7', '47', '9']\n",
      "core           INFO \tLoading laps for Austrian Grand Prix - Race [v2.1.8]\n",
      "api            INFO \tUsing cached data for timing_data\n",
      "api            INFO \tUsing cached data for timing_app_data\n",
      "core           INFO \tProcessing timing data...\n",
      "api            INFO \tUsing cached data for session_status_data\n",
      "api            INFO \tUsing cached data for track_status_data\n",
      "api            INFO \tUsing cached data for weather_data\n",
      "core           INFO \tLoaded data for 20 drivers: ['33', '4', '11', '44', '77', '10', '22', '63', '18', '55', '5', '16', '3', '14', '99', '7', '', '6', '47', '9']\n",
      "core           INFO \tLoading laps for British Grand Prix - Race [v2.1.8]\n",
      "api            INFO \tUsing cached data for timing_data\n",
      "api            INFO \tUsing cached data for timing_app_data\n",
      "core           INFO \tProcessing timing data...\n",
      "api            INFO \tUsing cached data for session_status_data\n",
      "api            INFO \tUsing cached data for track_status_data\n",
      "api            INFO \tUsing cached data for weather_data\n",
      "core           INFO \tLoaded data for 20 drivers: ['', '44', '77', '16', '4', '3', '14', '5', '31', '55', '10', '63', '7', '18', '99', '22', '6', '47', '9', '11']\n",
      "core           INFO \tLoading laps for Hungarian Grand Prix - Race [v2.1.8]\n",
      "api            INFO \tUsing cached data for timing_data\n",
      "api            INFO \tUsing cached data for timing_app_data\n",
      "core           INFO \tProcessing timing data...\n",
      "api            INFO \tUsing cached data for session_status_data\n",
      "api            INFO \tUsing cached data for track_status_data\n",
      "api            INFO \tUsing cached data for weather_data\n",
      "core           INFO \tLoaded data for 17 drivers: ['44', '', '33', '10', '4', '31', '14', '5', '3', '7', '99', '55', '22', '63', '6', '9', '47']\n",
      "core           INFO \tLoading laps for Belgian Grand Prix - Race [v2.1.8]\n",
      "api            INFO \tUsing cached data for timing_data\n",
      "api            INFO \tUsing cached data for timing_app_data\n",
      "core           INFO \tProcessing timing data...\n",
      "api            INFO \tUsing cached data for session_status_data\n",
      "api            INFO \tUsing cached data for track_status_data\n",
      "api            INFO \tUsing cached data for weather_data\n",
      "core           INFO \tLoaded data for 20 drivers: ['33', '63', '44', '3', '5', '10', '11', '31', '16', '6', '55', '14', '77', '99', '4', '22', '47', '9', '18', '7']\n",
      "core           INFO \tLoading laps for Dutch Grand Prix - Race [v2.1.8]\n",
      "api            INFO \tUsing cached data for timing_data\n",
      "api            INFO \tUsing cached data for timing_app_data\n",
      "core           INFO \tProcessing timing data...\n",
      "api            INFO \tUsing cached data for session_status_data\n",
      "api            INFO \tUsing cached data for track_status_data\n",
      "api            INFO \tUsing cached data for weather_data\n",
      "core           INFO \tLoaded data for 20 drivers: ['33', '44', '77', '10', '16', '55', '99', '31', '14', '3', '63', '18', '4', '22', '5', '88', '47', '9', '6', '11']\n",
      "core           INFO \tLoading laps for Italian Grand Prix - Race [v2.1.8]\n",
      "api            INFO \tUsing cached data for timing_data\n",
      "api            INFO \tUsing cached data for timing_app_data\n",
      "core           INFO \tProcessing timing data...\n",
      "api            INFO \tUsing cached data for session_status_data\n",
      "api            INFO \tUsing cached data for track_status_data\n",
      "api            INFO \tUsing cached data for weather_data\n",
      "core           INFO \tLoaded data for 20 drivers: ['33', '3', '4', '44', '16', '55', '99', '11', '18', '14', '5', '31', '6', '63', '', '9', '88', '47', '77', '10']\n"
     ]
    },
    {
     "name": "stderr",
     "output_type": "stream",
     "text": [
      "core           INFO \tLoading laps for Russian Grand Prix - Race [v2.1.8]\n",
      "api            INFO \tUsing cached data for timing_data\n",
      "api            INFO \tUsing cached data for timing_app_data\n",
      "core           INFO \tProcessing timing data...\n",
      "api            INFO \tUsing cached data for session_status_data\n",
      "api            INFO \tUsing cached data for track_status_data\n",
      "api            INFO \tUsing cached data for weather_data\n",
      "core           INFO \tLoaded data for 20 drivers: ['4', '55', '63', '44', '3', '14', '18', '11', '31', '5', '10', '22', '7', '47', '9', '77', '99', '6', '16', '33']\n",
      "core           INFO \tLoading laps for Turkish Grand Prix - Race [v2.1.8]\n",
      "api            INFO \tUsing cached data for timing_data\n",
      "api            INFO \tUsing cached data for timing_app_data\n",
      "core           INFO \tProcessing timing data...\n",
      "api            INFO \tUsing cached data for session_status_data\n",
      "api            INFO \tUsing cached data for track_status_data\n",
      "api            INFO \tUsing cached data for weather_data\n",
      "core           INFO \tLoaded data for 20 drivers: ['77', '33', '16', '10', '14', '11', '4', '18', '22', '5', '44', '31', '63', '47', '6', '99', '7', '9', '55', '3']\n"
     ]
    }
   ],
   "source": [
    "for i in range(1,17):\n",
    "    races.append(ff1.get_session(2021, i, 'R'))\n",
    "    races[i-1].load_laps()"
   ]
  },
  {
   "cell_type": "markdown",
   "id": "5c2d47a5",
   "metadata": {},
   "source": [
    "Create a dictionary to hold winners from each session"
   ]
  },
  {
   "cell_type": "code",
   "execution_count": 5,
   "id": "a6b3f1f0",
   "metadata": {},
   "outputs": [],
   "source": [
    "winners = {'Driver':['HAM','BOT','VER','PER','NOR','RIC','STR','VET','ALO','OCO','LEC','SAI','GAS','TSU','RAI','GIO','MAZ','MSC','RUS','LAT'],'1st':[0,0,0,0,0,0,0,0,0,0,0,0,0,0,0,0,0,0,0,0],'2nd':[0,0,0,0,0,0,0,0,0,0,0,0,0,0,0,0,0,0,0,0],'3rd':[0,0,0,0,0,0,0,0,0,0,0,0,0,0,0,0,0,0,0,0]}"
   ]
  },
  {
   "cell_type": "markdown",
   "id": "23cf26b7",
   "metadata": {},
   "source": [
    "Now we collect our data"
   ]
  },
  {
   "cell_type": "code",
   "execution_count": 6,
   "id": "47be520a",
   "metadata": {},
   "outputs": [],
   "source": [
    "for race in races:\n",
    "    results = race.results\n",
    "    index = winners['Driver'].index(results[0]['Driver']['code'])\n",
    "    winners['1st'][index]=winners['1st'][index]+1\n",
    "    index = winners['Driver'].index(results[1]['Driver']['code'])\n",
    "    winners['2nd'][index]=winners['2nd'][index]+1\n",
    "    index = winners['Driver'].index(results[2]['Driver']['code'])\n",
    "    winners['3rd'][index]=winners['3rd'][index]+1"
   ]
  },
  {
   "cell_type": "markdown",
   "id": "38f0d5a2",
   "metadata": {},
   "source": [
    "Now we convert that data into a data frame to make it easier on us"
   ]
  },
  {
   "cell_type": "code",
   "execution_count": 7,
   "id": "ce7a8b5f",
   "metadata": {},
   "outputs": [
    {
     "name": "stdout",
     "output_type": "stream",
     "text": [
      "   Driver  1st  2nd  3rd\n",
      "0     HAM    5    5    1\n",
      "1     BOT    1    1    7\n",
      "2     VER    7    5    0\n",
      "3     PER    1    0    2\n",
      "4     NOR    0    1    3\n",
      "5     RIC    1    0    0\n",
      "6     STR    0    0    0\n",
      "7     VET    0    1    0\n",
      "8     ALO    0    0    0\n",
      "9     OCO    1    0    0\n",
      "10    LEC    0    1    0\n",
      "11    SAI    0    1    2\n",
      "12    GAS    0    0    1\n",
      "13    TSU    0    0    0\n",
      "14    RAI    0    0    0\n",
      "15    GIO    0    0    0\n",
      "16    MAZ    0    0    0\n",
      "17    MSC    0    0    0\n",
      "18    RUS    0    1    0\n",
      "19    LAT    0    0    0\n"
     ]
    }
   ],
   "source": [
    "dframe = pd.DataFrame(winners)\n",
    "print(dframe)"
   ]
  },
  {
   "cell_type": "markdown",
   "id": "ea729118",
   "metadata": {},
   "source": [
    "Now that we have our data, we can begin setting up our graph.\n",
    "\n",
    "First, we initialize our arrays to actually be used in the creation of the graph"
   ]
  },
  {
   "cell_type": "code",
   "execution_count": 8,
   "id": "2d630c81",
   "metadata": {},
   "outputs": [],
   "source": [
    "drivers=dframe.Driver\n",
    "first=dframe['1st'].array\n",
    "second=dframe['2nd'].array\n",
    "third=dframe['3rd'].array"
   ]
  },
  {
   "cell_type": "markdown",
   "id": "2d6e44ac",
   "metadata": {},
   "source": [
    "Second, we determine the width of our bars and the spacing nessesary between them"
   ]
  },
  {
   "cell_type": "code",
   "execution_count": 9,
   "id": "2784d502",
   "metadata": {},
   "outputs": [],
   "source": [
    "x = np.arange(len(drivers))\n",
    "width = 0.3\n",
    "constshift=width/2"
   ]
  },
  {
   "cell_type": "markdown",
   "id": "c367d9ce",
   "metadata": {},
   "source": [
    "No clue as to what the following does"
   ]
  },
  {
   "cell_type": "code",
   "execution_count": 10,
   "id": "0ecf260f",
   "metadata": {
    "scrolled": true
   },
   "outputs": [
    {
     "data": {
      "text/plain": [
       "<matplotlib.legend.Legend at 0x1c0407b95b0>"
      ]
     },
     "execution_count": 10,
     "metadata": {},
     "output_type": "execute_result"
    },
    {
     "data": {
      "image/png": "[encoded data removed]",
      "text/plain": [
       "<Figure size 432x288 with 1 Axes>"
      ]
     },
     "metadata": {
      "needs_background": "light"
     },
     "output_type": "display_data"
    },
    {
     "data": {
      "text/plain": [
       "<Figure size 1440x216 with 0 Axes>"
      ]
     },
     "metadata": {},
     "output_type": "display_data"
    }
   ],
   "source": [
    "fig, ax = plt.subplots()\n",
    "plt.figure(figsize=(20, 3))\n",
    "rects1 = ax.bar((x-width)-constshift, first, width, label='Wins', align='edge')\n",
    "rects2 = ax.bar(x-constshift, second, width, label='Second Place',align='edge')\n",
    "rects3 = ax.bar((x+width)-constshift, third, width, label=\"Third Place\",align='edge')\n",
    "ax.set_ylabel('# of times position acheived')\n",
    "ax.set_title(\"Frequency of Positions Scored by Drivers\")\n",
    "ax.set_xticks(x)\n",
    "ax.set_xticklabels(drivers, fontsize=7)\n",
    "ax.legend()   \n",
    "\n"
   ]
  },
  {
   "cell_type": "markdown",
   "id": "160b542a",
   "metadata": {},
   "source": [
    "Now that we've done that, lets graph the points by round between Verstappen and Hamilton"
   ]
  },
  {
   "cell_type": "code",
   "execution_count": 11,
   "id": "59eb4431",
   "metadata": {},
   "outputs": [],
   "source": [
    "switcher = {\n",
    "    1:25,\n",
    "    2:18,\n",
    "    3:15,\n",
    "    4:12,\n",
    "    5:10,\n",
    "    6:8,\n",
    "    7:6,\n",
    "    8:4,\n",
    "    9:2,\n",
    "    10:1\n",
    "}"
   ]
  },
  {
   "cell_type": "code",
   "execution_count": 12,
   "id": "d42b2a6c",
   "metadata": {},
   "outputs": [
    {
     "name": "stdout",
     "output_type": "stream",
     "text": [
      "    Race  Verstappen  Hamilton\n",
      "0    BRN        18.0      25.0\n",
      "1    ITA        43.0      44.0\n",
      "2    POR        61.0      69.0\n",
      "3    ESP        80.0      94.0\n",
      "4    MON       105.0     101.0\n",
      "5    AZB       105.0     101.0\n",
      "6    FRA       131.0     119.0\n",
      "7    AUT       156.0     138.0\n",
      "8   AUT2       182.0     150.0\n",
      "9    GBR       185.0     177.0\n",
      "10   HUN       187.0     195.0\n",
      "11   BEL       199.5     202.5\n",
      "12   NED       224.5     221.5\n",
      "13  ITA2       226.5     221.5\n",
      "14   RUS       244.5     246.5\n",
      "15   TUR       262.5     256.5\n"
     ]
    }
   ],
   "source": [
    "points={'Race':['BRN','ITA','POR','ESP','MON','AZB','FRA','AUT','AUT2','GBR','HUN','BEL','NED','ITA2','RUS','TUR'],'Verstappen':[0.0,0.0,0.0,0.0,0.0,0.0,0.0,0.0,0.0,0.0,0.0,0.0,0.0,0.0,0.0,0.0],'Hamilton':[0.0,0.0,0.0,0.0,0.0,0.0,0.0,0.0,0.0,0.0,0.0,0.0,0.0,0.0,0.0,0.0]}\n",
    "for i in range(0, len(races)):\n",
    "    race = races[i]\n",
    "    position = race.get_driver('VER').position\n",
    "    #sum up to that point\n",
    "    if(i!=0):\n",
    "        points['Verstappen'][i]+=points['Verstappen'][i-1]\n",
    "        points['Hamilton'][i]+=points['Hamilton'][i-1]\n",
    "    if(i==11):#fuck off spa-francorchamps(got flooded :-|) \n",
    "        points['Verstappen'][i]+=12.5\n",
    "        points['Hamilton'][i]+=7.5\n",
    "        continue\n",
    "    try:\n",
    "        fastest = races[i].laps.pick_fastest().DriverNumber\n",
    "    except:\n",
    "        print(races[i].weekend.name+\" \"+str(i))\n",
    "    if(i==9):#british grand prix weird points\n",
    "        points['Verstappen'][i]+=3\n",
    "        points['Hamilton'][i]+=27\n",
    "        continue\n",
    "    if(i==13):#itialian grand prix weird points\n",
    "        points['Verstappen'][i]+=2\n",
    "        points['Hamilton'][i]+=0\n",
    "        continue\n",
    "    if(position<11):\n",
    "        points['Verstappen'][i]+=switcher.get(position)\n",
    "        if(fastest=='33'and i!=2):\n",
    "            points['Verstappen'][i]+=1\n",
    "    position = race.get_driver('HAM').position\n",
    "    if(position<11):\n",
    "        points['Hamilton'][i]+=switcher.get(position)\n",
    "        if(fastest=='44'):\n",
    "            points['Hamilton'][i]+=1\n",
    "    \n",
    "dframe_points = pd.DataFrame(points)\n",
    "print(dframe_points)"
   ]
  },
  {
   "cell_type": "markdown",
   "id": "f12e91cf",
   "metadata": {},
   "source": [
    "Now, we graph these points. This is pretty easy."
   ]
  },
  {
   "cell_type": "code",
   "execution_count": 15,
   "id": "6c625695",
   "metadata": {},
   "outputs": [
    {
     "data": {
      "text/plain": [
       "Text(0.5, 1.0, 'Verstappen vs. Hamilton')"
      ]
     },
     "execution_count": 15,
     "metadata": {},
     "output_type": "execute_result"
    },
    {
     "data": {
      "image/png": "[encoded data removed]",
      "text/plain": [
       "<Figure size 432x288 with 1 Axes>"
      ]
     },
     "metadata": {
      "needs_background": "light"
     },
     "output_type": "display_data"
    }
   ],
   "source": [
    "plt.plot(points['Verstappen'], color = ff1plot.team_color('RBR'))\n",
    "plt.plot(points['Hamilton'], color=ff1plot.team_color('MER'))\n",
    "plt.xticks(np.arange(len(points['Race'])),points['Race'])\n",
    "plt.title(\"Verstappen vs. Hamilton\")"
   ]
  }
 ],
 "metadata": {
  "kernelspec": {
   "display_name": "Python 3",
   "language": "python",
   "name": "python3"
  },
  "language_info": {
   "codemirror_mode": {
    "name": "ipython",
    "version": 3
   },
   "file_extension": ".py",
   "mimetype": "text/x-python",
   "name": "python",
   "nbconvert_exporter": "python",
   "pygments_lexer": "ipython3",
   "version": "3.8.8"
  }
 },
 "nbformat": 4,
 "nbformat_minor": 5
}
